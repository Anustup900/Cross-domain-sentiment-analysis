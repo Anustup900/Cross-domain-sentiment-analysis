{
 "cells": [
  {
   "cell_type": "code",
   "execution_count": 2,
   "metadata": {},
   "outputs": [],
   "source": [
    "import nltk\n",
    "import os\n",
    "import re\n",
    "import sklearn\n",
    "import pandas as pd\n",
    "import numpy as np"
   ]
  },
  {
   "cell_type": "code",
   "execution_count": 3,
   "metadata": {},
   "outputs": [],
   "source": [
    "from sklearn.linear_model import LogisticRegression\n",
    "from sklearn import svm\n",
    "from sklearn.naive_bayes import BernoulliNB,MultinomialNB\n",
    "from sklearn.neighbors import KNeighborsClassifier\n",
    "from sklearn.tree import DecisionTreeClassifier\n",
    "from sklearn.metrics import f1_score,confusion_matrix"
   ]
  },
  {
   "cell_type": "code",
   "execution_count": 4,
   "metadata": {},
   "outputs": [],
   "source": [
    "from sklearn.feature_selection import SelectKBest,chi2"
   ]
  },
  {
   "cell_type": "code",
   "execution_count": 5,
   "metadata": {},
   "outputs": [],
   "source": [
    "from sklearn.ensemble import BaggingClassifier"
   ]
  },
  {
   "cell_type": "code",
   "execution_count": 6,
   "metadata": {},
   "outputs": [
    {
     "name": "stdout",
     "output_type": "stream",
     "text": [
      "[nltk_data] Downloading package punkt to /home/u4512/nltk_data...\n",
      "[nltk_data]   Package punkt is already up-to-date!\n",
      "[nltk_data] Downloading package stopwords to /home/u4512/nltk_data...\n",
      "[nltk_data]   Package stopwords is already up-to-date!\n"
     ]
    },
    {
     "data": {
      "text/plain": [
       "True"
      ]
     },
     "execution_count": 6,
     "metadata": {},
     "output_type": "execute_result"
    }
   ],
   "source": [
    "nltk.download('punkt')\n",
    "nltk.download('stopwords')"
   ]
  },
  {
   "cell_type": "code",
   "execution_count": 7,
   "metadata": {},
   "outputs": [],
   "source": [
    "from nltk.tokenize import word_tokenize\n",
    "from nltk.corpus import stopwords"
   ]
  },
  {
   "cell_type": "code",
   "execution_count": 8,
   "metadata": {},
   "outputs": [],
   "source": [
    "with open('Dvdtrain.txt','r',encoding='utf-8') as f:\n",
    "    dvd_train = f.readlines()"
   ]
  },
  {
   "cell_type": "code",
   "execution_count": 9,
   "metadata": {},
   "outputs": [],
   "source": [
    "stopword = stopwords.words('english')"
   ]
  },
  {
   "cell_type": "code",
   "execution_count": 10,
   "metadata": {},
   "outputs": [],
   "source": [
    "def preprocess(sentence):\n",
    "    sentence = re.sub('[^\\w\\s]',' ',str(sentence))\n",
    "    sentence = re.sub('[^a-zA-Z]',' ',str(sentence))\n",
    "    new_sent = \" \"\n",
    "    tok = word_tokenize(sentence)\n",
    "    for i in range(len(tok)):\n",
    "        if tok[i].lower() not in stopword:\n",
    "            new_sent+=tok[i].lower()+\" \"\n",
    "    return new_sent"
   ]
  },
  {
   "cell_type": "code",
   "execution_count": 11,
   "metadata": {},
   "outputs": [],
   "source": [
    "corpus_train = []"
   ]
  },
  {
   "cell_type": "code",
   "execution_count": 12,
   "metadata": {},
   "outputs": [],
   "source": [
    "label_train = np.zeros(1600)"
   ]
  },
  {
   "cell_type": "code",
   "execution_count": 13,
   "metadata": {},
   "outputs": [],
   "source": [
    "label_train[0:800] = 1"
   ]
  },
  {
   "cell_type": "code",
   "execution_count": 14,
   "metadata": {},
   "outputs": [],
   "source": [
    "for i in range(len(dvd_train)):\n",
    "    sent = dvd_train[i]\n",
    "    sent = sent[0:len(sent)-1]\n",
    "    corpus_train.append(preprocess(sent))"
   ]
  },
  {
   "cell_type": "code",
   "execution_count": 15,
   "metadata": {},
   "outputs": [
    {
     "data": {
      "text/plain": [
       "1600"
      ]
     },
     "execution_count": 15,
     "metadata": {},
     "output_type": "execute_result"
    }
   ],
   "source": [
    "len(corpus_train)"
   ]
  },
  {
   "cell_type": "code",
   "execution_count": 16,
   "metadata": {},
   "outputs": [
    {
     "data": {
      "text/plain": [
       "1600"
      ]
     },
     "execution_count": 16,
     "metadata": {},
     "output_type": "execute_result"
    }
   ],
   "source": [
    "len(label_train)"
   ]
  },
  {
   "cell_type": "code",
   "execution_count": 17,
   "metadata": {},
   "outputs": [],
   "source": [
    "with open('../Electronics/Electronicstest.txt','r',encoding='utf-8') as f:\n",
    "    electronics_test = f.readlines()"
   ]
  },
  {
   "cell_type": "code",
   "execution_count": 18,
   "metadata": {},
   "outputs": [],
   "source": [
    "corpus_test = []"
   ]
  },
  {
   "cell_type": "code",
   "execution_count": 19,
   "metadata": {},
   "outputs": [],
   "source": [
    "label_test = np.zeros(400)"
   ]
  },
  {
   "cell_type": "code",
   "execution_count": 20,
   "metadata": {},
   "outputs": [],
   "source": [
    "label_test[0:200] = 1"
   ]
  },
  {
   "cell_type": "code",
   "execution_count": 21,
   "metadata": {},
   "outputs": [],
   "source": [
    "for i in range(400):\n",
    "    sent = electronics_test[i]\n",
    "    sent = sent[0:len(sent)-1]\n",
    "    corpus_test.append(preprocess(sent))"
   ]
  },
  {
   "cell_type": "code",
   "execution_count": 22,
   "metadata": {},
   "outputs": [
    {
     "data": {
      "text/plain": [
       "400"
      ]
     },
     "execution_count": 22,
     "metadata": {},
     "output_type": "execute_result"
    }
   ],
   "source": [
    "len(corpus_test)"
   ]
  },
  {
   "cell_type": "code",
   "execution_count": 23,
   "metadata": {},
   "outputs": [
    {
     "data": {
      "text/plain": [
       "400"
      ]
     },
     "execution_count": 23,
     "metadata": {},
     "output_type": "execute_result"
    }
   ],
   "source": [
    "len(label_test)"
   ]
  },
  {
   "cell_type": "code",
   "execution_count": 24,
   "metadata": {},
   "outputs": [],
   "source": [
    "train_length = len(corpus_train)\n",
    "test_length = len(corpus_test)"
   ]
  },
  {
   "cell_type": "code",
   "execution_count": 25,
   "metadata": {},
   "outputs": [],
   "source": [
    "from sklearn.feature_extraction.text import TfidfVectorizer"
   ]
  },
  {
   "cell_type": "code",
   "execution_count": 26,
   "metadata": {},
   "outputs": [],
   "source": [
    "vectorizer = TfidfVectorizer(min_df = 3,max_df=0.8,use_idf=True,sublinear_tf=True,stop_words='english')"
   ]
  },
  {
   "cell_type": "code",
   "execution_count": 27,
   "metadata": {},
   "outputs": [
    {
     "name": "stderr",
     "output_type": "stream",
     "text": [
      "/home/u4512/.conda/envs/nlp/lib/python3.5/site-packages/sklearn/feature_extraction/text.py:1059: FutureWarning: Conversion of the second argument of issubdtype from `float` to `np.floating` is deprecated. In future, it will be treated as `np.float64 == np.dtype(float).type`.\n",
      "  if hasattr(X, 'dtype') and np.issubdtype(X.dtype, np.float):\n"
     ]
    }
   ],
   "source": [
    "train_corpus_tf_idf = vectorizer.fit_transform(corpus_train)"
   ]
  },
  {
   "cell_type": "code",
   "execution_count": 28,
   "metadata": {},
   "outputs": [
    {
     "name": "stderr",
     "output_type": "stream",
     "text": [
      "/home/u4512/.conda/envs/nlp/lib/python3.5/site-packages/sklearn/feature_extraction/text.py:1059: FutureWarning: Conversion of the second argument of issubdtype from `float` to `np.floating` is deprecated. In future, it will be treated as `np.float64 == np.dtype(float).type`.\n",
      "  if hasattr(X, 'dtype') and np.issubdtype(X.dtype, np.float):\n"
     ]
    }
   ],
   "source": [
    "test_corpus_tf_idf = vectorizer.transform(corpus_test)"
   ]
  },
  {
   "cell_type": "code",
   "execution_count": 29,
   "metadata": {},
   "outputs": [
    {
     "data": {
      "text/plain": [
       "(1600, 6207)"
      ]
     },
     "execution_count": 29,
     "metadata": {},
     "output_type": "execute_result"
    }
   ],
   "source": [
    "train_corpus_tf_idf.shape"
   ]
  },
  {
   "cell_type": "code",
   "execution_count": 30,
   "metadata": {},
   "outputs": [],
   "source": [
    "vectorizer_chi2 = SelectKBest(chi2,k=4000)"
   ]
  },
  {
   "cell_type": "code",
   "execution_count": 31,
   "metadata": {},
   "outputs": [
    {
     "name": "stderr",
     "output_type": "stream",
     "text": [
      "/home/u4512/.conda/envs/nlp/lib/python3.5/site-packages/sklearn/utils/__init__.py:54: FutureWarning: Conversion of the second argument of issubdtype from `int` to `np.signedinteger` is deprecated. In future, it will be treated as `np.int64 == np.dtype(int).type`.\n",
      "  if np.issubdtype(mask.dtype, np.int):\n"
     ]
    }
   ],
   "source": [
    "chi_train_corpus_tf_idf = vectorizer_chi2.fit_transform(train_corpus_tf_idf,label_train)"
   ]
  },
  {
   "cell_type": "code",
   "execution_count": 32,
   "metadata": {},
   "outputs": [
    {
     "name": "stderr",
     "output_type": "stream",
     "text": [
      "/home/u4512/.conda/envs/nlp/lib/python3.5/site-packages/sklearn/utils/__init__.py:54: FutureWarning: Conversion of the second argument of issubdtype from `int` to `np.signedinteger` is deprecated. In future, it will be treated as `np.int64 == np.dtype(int).type`.\n",
      "  if np.issubdtype(mask.dtype, np.int):\n"
     ]
    }
   ],
   "source": [
    "chi_test_corpus_tf_idf = vectorizer_chi2.transform(test_corpus_tf_idf)"
   ]
  },
  {
   "cell_type": "code",
   "execution_count": 33,
   "metadata": {},
   "outputs": [
    {
     "name": "stdout",
     "output_type": "stream",
     "text": [
      "The accuracy is : 0.72\n",
      "The f1 score is : 0.6853932584269663\n",
      "confusion matrix is:\n",
      "[[166  78]\n",
      " [ 34 122]]\n"
     ]
    }
   ],
   "source": [
    "lr_classifier = LogisticRegression()\n",
    "lr_classifier.fit(chi_train_corpus_tf_idf,label_train)\n",
    "lr_pred = lr_classifier.predict(chi_test_corpus_tf_idf)\n",
    "lr_acc = float((sum(lr_pred==label_test))/len(label_test))\n",
    "lr_f1 = f1_score(lr_pred,label_test)\n",
    "lr_cm = confusion_matrix(lr_pred,label_test)\n",
    "print(\"The accuracy is :\",lr_acc)\n",
    "print(\"The f1 score is :\",lr_f1)\n",
    "print(\"confusion matrix is:\")\n",
    "print(lr_cm)"
   ]
  },
  {
   "cell_type": "code",
   "execution_count": 38,
   "metadata": {},
   "outputs": [
    {
     "name": "stdout",
     "output_type": "stream",
     "text": [
      "The accuracy is :  0.7225\n",
      "The f1 score is : 0.7040000000000001\n",
      "The confusion matrix is:\n",
      "[[157  43]\n",
      " [ 68 132]]\n"
     ]
    }
   ],
   "source": [
    "#Bagging Classifier with Logistic Regression\n",
    "bg_classifier_lr = BaggingClassifier(base_estimator=lr_classifier,n_estimators=8,random_state=0,max_samples=0.6)\n",
    "bg_classifier_lr.fit(chi_train_corpus_tf_idf,label_train)\n",
    "bg_predict_lr = bg_classifier_lr.predict(chi_test_corpus_tf_idf)\n",
    "bg_accuracy_lr = bg_classifier_lr.score(chi_test_corpus_tf_idf,label_test)\n",
    "bg_f1 = f1_score(bg_predict_lr,label_test)\n",
    "bg_cm_lr = confusion_matrix(label_test,bg_predict_lr)\n",
    "print(\"The accuracy is : \",bg_accuracy_lr)\n",
    "print(\"The f1 score is :\",bg_f1)\n",
    "print(\"The confusion matrix is:\")\n",
    "print(bg_cm_lr)"
   ]
  },
  {
   "cell_type": "code",
   "execution_count": 39,
   "metadata": {},
   "outputs": [
    {
     "name": "stdout",
     "output_type": "stream",
     "text": [
      "The SVM (rbf) Accuracy is:  0.72\n",
      "The F1 score is:  0.6906077348066298\n",
      "The confusion matrix is:\n",
      "[[163  75]\n",
      " [ 37 125]]\n"
     ]
    }
   ],
   "source": [
    "rbf_classifier = svm.SVC(gamma=0.9)\n",
    "rbf_classifier.fit(chi_train_corpus_tf_idf,label_train)\n",
    "rbf_pred = rbf_classifier.predict(chi_test_corpus_tf_idf)\n",
    "rbf_accuracy = rbf_classifier.score(chi_test_corpus_tf_idf,label_test)\n",
    "rbf_cm = confusion_matrix(rbf_pred,label_test)\n",
    "rbf_f1 = f1_score(rbf_pred,label_test)\n",
    "print(\"The SVM (rbf) Accuracy is: \",rbf_accuracy)\n",
    "print(\"The F1 score is: \",rbf_f1)\n",
    "print(\"The confusion matrix is:\")\n",
    "print(rbf_cm)"
   ]
  },
  {
   "cell_type": "code",
   "execution_count": 40,
   "metadata": {},
   "outputs": [
    {
     "name": "stdout",
     "output_type": "stream",
     "text": [
      "The accuracy is :  0.72\n",
      "The F1 score is:  0.7005347593582888\n",
      "The confusion matrix is:\n",
      "[[157  43]\n",
      " [ 69 131]]\n"
     ]
    }
   ],
   "source": [
    "#Bagging Classifier SVM with RBF Kernel\n",
    "bg_classifier_rbf = BaggingClassifier(base_estimator=rbf_classifier,n_estimators=7,random_state=0,max_samples=0.5)\n",
    "bg_classifier_rbf.fit(chi_train_corpus_tf_idf,label_train)\n",
    "bg_predict_rbf = bg_classifier_rbf.predict(chi_test_corpus_tf_idf)\n",
    "bg_accuracy_rbf = bg_classifier_rbf.score(chi_test_corpus_tf_idf,label_test)\n",
    "bg_cm_rbf = confusion_matrix(label_test,bg_predict_rbf)\n",
    "bg_f1_rbf = f1_score(label_test,bg_predict_rbf)\n",
    "print(\"The accuracy is : \",bg_accuracy_rbf)\n",
    "print(\"The F1 score is: \",bg_f1_rbf)\n",
    "print(\"The confusion matrix is:\")\n",
    "print(bg_cm_rbf)"
   ]
  },
  {
   "cell_type": "code",
   "execution_count": 41,
   "metadata": {},
   "outputs": [
    {
     "name": "stdout",
     "output_type": "stream",
     "text": [
      "The DT Accuracy is:  0.6225\n",
      "The F1 score is : 0.5863013698630136\n",
      "The confusion matrix is:\n",
      "[[142  93]\n",
      " [ 58 107]]\n"
     ]
    }
   ],
   "source": [
    "dt_classifier = DecisionTreeClassifier(random_state=0)\n",
    "dt_classifier.fit(chi_train_corpus_tf_idf,label_train)\n",
    "dt_pred = dt_classifier.predict(chi_test_corpus_tf_idf)\n",
    "dt_accuracy = dt_classifier.score(chi_test_corpus_tf_idf,label_test)\n",
    "dt_cm = confusion_matrix(dt_pred,label_test)\n",
    "dt_f1 = f1_score(label_test,dt_pred)\n",
    "print(\"The DT Accuracy is: \",dt_accuracy)\n",
    "print(\"The F1 score is :\",dt_f1)\n",
    "print(\"The confusion matrix is:\")\n",
    "print(dt_cm)"
   ]
  },
  {
   "cell_type": "code",
   "execution_count": 42,
   "metadata": {},
   "outputs": [
    {
     "name": "stdout",
     "output_type": "stream",
     "text": [
      "The accuracy is:  0.6675\n",
      "The F1 score is:  0.6527415143603132\n",
      "The confusion matrix is:\n",
      "[[142  58]\n",
      " [ 75 125]]\n"
     ]
    }
   ],
   "source": [
    "#Bagging with Decision Tree\n",
    "bg_classifier_dt = BaggingClassifier(base_estimator=dt_classifier,n_estimators=8,random_state=0,max_samples=0.9)\n",
    "bg_classifier_dt.fit(chi_train_corpus_tf_idf,label_train)\n",
    "bg_predict_dt = bg_classifier_dt.predict(chi_test_corpus_tf_idf)\n",
    "bg_accuracy_dt = bg_classifier_dt.score(chi_test_corpus_tf_idf,label_test)\n",
    "bg_cm_dt = confusion_matrix(label_test,bg_predict_dt)\n",
    "bg_f1_dt = f1_score(label_test,bg_predict_dt)\n",
    "print(\"The accuracy is: \",bg_accuracy_dt)\n",
    "print(\"The F1 score is: \",bg_f1_dt)\n",
    "print(\"The confusion matrix is:\")\n",
    "print(bg_cm_dt)"
   ]
  },
  {
   "cell_type": "code",
   "execution_count": 43,
   "metadata": {},
   "outputs": [
    {
     "name": "stdout",
     "output_type": "stream",
     "text": [
      "The SVM(linear) Accuracy is:  0.72\n",
      "The F1 score is : 0.6923076923076923\n",
      "The confusion matrix is:\n",
      "[[162  74]\n",
      " [ 38 126]]\n"
     ]
    }
   ],
   "source": [
    "linear_classifier = svm.SVC(kernel='linear',gamma=0.2)\n",
    "linear_classifier.fit(chi_train_corpus_tf_idf,label_train)\n",
    "linear_pred = linear_classifier.predict(chi_test_corpus_tf_idf)\n",
    "linear_accuracy = linear_classifier.score(chi_test_corpus_tf_idf,label_test)\n",
    "linear_cm = confusion_matrix(linear_pred,label_test)\n",
    "linear_f1 = f1_score(label_test,linear_pred)\n",
    "print(\"The SVM(linear) Accuracy is: \",linear_accuracy)\n",
    "print(\"The F1 score is :\",linear_f1)\n",
    "print(\"The confusion matrix is:\")\n",
    "print(linear_cm)"
   ]
  },
  {
   "cell_type": "code",
   "execution_count": 44,
   "metadata": {},
   "outputs": [
    {
     "name": "stdout",
     "output_type": "stream",
     "text": [
      "The accuracy is :  0.7275\n",
      "The F1 score is : 0.6980609418282548\n",
      "The confusion matrix is:\n",
      "[[165  35]\n",
      " [ 74 126]]\n"
     ]
    }
   ],
   "source": [
    "#Bagging Classifier SVM with Linear Kernel\n",
    "bg_classifier_linear = BaggingClassifier(base_estimator=linear_classifier,n_estimators=13,random_state=0,max_samples=0.6)\n",
    "bg_classifier_linear.fit(chi_train_corpus_tf_idf,label_train)\n",
    "bg_predict_linear = bg_classifier_linear.predict(chi_test_corpus_tf_idf)\n",
    "bg_accuracy_linear = bg_classifier_linear.score(chi_test_corpus_tf_idf,label_test)\n",
    "bg_cm_linear = confusion_matrix(label_test,bg_predict_linear)\n",
    "bg_f1_linear = f1_score(bg_predict_linear,label_test)\n",
    "print(\"The accuracy is : \",bg_accuracy_linear)\n",
    "print(\"The F1 score is :\",bg_f1_linear)\n",
    "print(\"The confusion matrix is:\")\n",
    "print(bg_cm_linear)"
   ]
  },
  {
   "cell_type": "code",
   "execution_count": 45,
   "metadata": {},
   "outputs": [
    {
     "name": "stdout",
     "output_type": "stream",
     "text": [
      "Accuracy is : 0.695\n",
      "F1 score is : 0.6534090909090908\n",
      "The confusion matrix is:\n",
      "[[163  85]\n",
      " [ 37 115]]\n"
     ]
    }
   ],
   "source": [
    "nb_classifier = MultinomialNB()\n",
    "nb_classifier.fit(chi_train_corpus_tf_idf,label_train)\n",
    "nb_acc = nb_classifier.score(chi_test_corpus_tf_idf,label_test)\n",
    "nb_pred = nb_classifier.predict(chi_test_corpus_tf_idf)\n",
    "nb_cm = confusion_matrix(nb_pred,label_test)\n",
    "nb_f1 = f1_score(nb_pred,label_test)\n",
    "print(\"Accuracy is :\",nb_acc)\n",
    "print(\"F1 score is :\",nb_f1)\n",
    "print(\"The confusion matrix is:\")\n",
    "print(nb_cm)"
   ]
  },
  {
   "cell_type": "code",
   "execution_count": 46,
   "metadata": {},
   "outputs": [
    {
     "name": "stdout",
     "output_type": "stream",
     "text": [
      "The accuracy is:  0.715\n",
      "The F1 score is:  0.6797752808988765\n",
      "The confusion matrix is:\n",
      "[[165  35]\n",
      " [ 79 121]]\n"
     ]
    }
   ],
   "source": [
    "#Bagging with Naive Bayes\n",
    "bg_classifier_nb = BaggingClassifier(base_estimator=nb_classifier,n_estimators=5,random_state=0,max_samples=0.9)\n",
    "bg_classifier_nb.fit(chi_train_corpus_tf_idf,label_train)\n",
    "bg_predict_nb = bg_classifier_nb.predict(chi_test_corpus_tf_idf)\n",
    "bg_accuracy_nb = bg_classifier_nb.score(chi_test_corpus_tf_idf,label_test)\n",
    "bg_cm_nb = confusion_matrix(label_test,bg_predict_nb)\n",
    "bg_f1_nb = f1_score(bg_predict_nb,label_test)\n",
    "print(\"The accuracy is: \",bg_accuracy_nb)\n",
    "print(\"The F1 score is: \",bg_f1_nb)\n",
    "print(\"The confusion matrix is:\")\n",
    "print(bg_cm_nb)"
   ]
  },
  {
   "cell_type": "code",
   "execution_count": 47,
   "metadata": {},
   "outputs": [
    {
     "name": "stdout",
     "output_type": "stream",
     "text": [
      "Accuracy is : 0.5675\n",
      "F1 score is : 0.6505050505050505\n",
      "The confusion matrix is:\n",
      "[[ 66  39]\n",
      " [134 161]]\n"
     ]
    }
   ],
   "source": [
    "knn_classifier = KNeighborsClassifier(n_neighbors=5)\n",
    "knn_classifier.fit(chi_train_corpus_tf_idf,label_train)\n",
    "knn_pred = knn_classifier.predict(chi_test_corpus_tf_idf)\n",
    "knn_accuracy = knn_classifier.score(chi_test_corpus_tf_idf,label_test)\n",
    "knn_cm = confusion_matrix(knn_pred,label_test)\n",
    "knn_f1 = f1_score(knn_pred,label_test)\n",
    "print(\"Accuracy is :\",knn_accuracy)\n",
    "print(\"F1 score is :\",knn_f1)\n",
    "print(\"The confusion matrix is:\")\n",
    "print(knn_cm)"
   ]
  },
  {
   "cell_type": "code",
   "execution_count": 48,
   "metadata": {},
   "outputs": [
    {
     "name": "stdout",
     "output_type": "stream",
     "text": [
      "The accuracy is:  0.545\n",
      "The F1 score is:  0.6654411764705883\n",
      "The confusion matrix is:\n",
      "[[ 37 163]\n",
      " [ 19 181]]\n"
     ]
    }
   ],
   "source": [
    "#Bagging with KNN\n",
    "bg_classifier_knn = BaggingClassifier(base_estimator=knn_classifier,n_estimators=15,random_state=0,max_samples=0.8)\n",
    "bg_classifier_knn.fit(chi_train_corpus_tf_idf,label_train)\n",
    "bg_predict_knn = bg_classifier_knn.predict(chi_test_corpus_tf_idf)\n",
    "bg_accuracy_knn = bg_classifier_knn.score(chi_test_corpus_tf_idf,label_test)\n",
    "bg_cm_knn = confusion_matrix(label_test,bg_predict_knn)\n",
    "bg_f1_knn = f1_score(bg_predict_knn,label_test)\n",
    "print(\"The accuracy is: \",bg_accuracy_knn)\n",
    "print(\"The F1 score is: \",bg_f1_knn)\n",
    "print(\"The confusion matrix is:\")\n",
    "print(bg_cm_knn)"
   ]
  },
  {
   "cell_type": "code",
   "execution_count": null,
   "metadata": {},
   "outputs": [],
   "source": []
  }
 ],
 "metadata": {
  "kernelspec": {
   "display_name": "nlp",
   "language": "python",
   "name": "nlp"
  },
  "language_info": {
   "codemirror_mode": {
    "name": "ipython",
    "version": 3
   },
   "file_extension": ".py",
   "mimetype": "text/x-python",
   "name": "python",
   "nbconvert_exporter": "python",
   "pygments_lexer": "ipython3",
   "version": "3.5.3"
  }
 },
 "nbformat": 4,
 "nbformat_minor": 2
}
