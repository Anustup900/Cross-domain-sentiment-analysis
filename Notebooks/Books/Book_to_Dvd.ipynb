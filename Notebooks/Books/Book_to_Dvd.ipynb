{
  "nbformat": 4,
  "nbformat_minor": 0,
  "metadata": {
    "colab": {
      "name": "Book to Dvd.ipynb",
      "version": "0.3.2",
      "views": {},
      "default_view": {},
      "provenance": [],
      "collapsed_sections": []
    },
    "kernelspec": {
      "name": "python3",
      "display_name": "Python 3"
    },
    "accelerator": "GPU"
  },
  "cells": [
    {
      "metadata": {
        "id": "Jsh8qsj3-So4",
        "colab_type": "code",
        "colab": {
          "autoexec": {
            "startup": false,
            "wait_interval": 0
          }
        }
      },
      "cell_type": "code",
      "source": [
        "import os\n",
        "import re\n",
        "import nltk\n",
        "import sklearn\n",
        "import numpy as np\n",
        "import pandas as pd\n",
        "from nltk.tokenize import word_tokenize\n",
        "from nltk.corpus import stopwords"
      ],
      "execution_count": 0,
      "outputs": []
    },
    {
      "metadata": {
        "id": "LxVHbVxeCTlk",
        "colab_type": "code",
        "colab": {
          "autoexec": {
            "startup": false,
            "wait_interval": 0
          }
        }
      },
      "cell_type": "code",
      "source": [
        "from scipy import sparse"
      ],
      "execution_count": 0,
      "outputs": []
    },
    {
      "metadata": {
        "id": "5P0XZ9tv_E3G",
        "colab_type": "code",
        "colab": {
          "autoexec": {
            "startup": false,
            "wait_interval": 0
          }
        }
      },
      "cell_type": "code",
      "source": [
        "from sklearn.linear_model import LogisticRegression\n",
        "from sklearn import svm\n",
        "from sklearn.naive_bayes import BernoulliNB,MultinomialNB\n",
        "from sklearn.neighbors import KNeighborsClassifier\n",
        "from sklearn.tree import DecisionTreeClassifier\n",
        "from sklearn.metrics import f1_score,confusion_matrix,accuracy_score\n",
        "from sklearn.ensemble import BaggingClassifier,AdaBoostClassifier\n",
        "from nltk.tokenize import word_tokenize\n",
        "from nltk.corpus import stopwords\n",
        "from sklearn.utils import shuffle\n",
        "from sklearn.feature_extraction.text import TfidfVectorizer,CountVectorizer\n",
        "from sklearn.feature_selection import SelectKBest"
      ],
      "execution_count": 0,
      "outputs": []
    },
    {
      "metadata": {
        "id": "G6USWZIj-h5R",
        "colab_type": "code",
        "colab": {
          "autoexec": {
            "startup": false,
            "wait_interval": 0
          }
        }
      },
      "cell_type": "code",
      "source": [
        "with open('Bookstrain.txt','r',encoding='latin1') as f:\n",
        "  train = f.readlines()"
      ],
      "execution_count": 0,
      "outputs": []
    },
    {
      "metadata": {
        "id": "WjWDnZu_-pue",
        "colab_type": "code",
        "colab": {
          "autoexec": {
            "startup": false,
            "wait_interval": 0
          }
        }
      },
      "cell_type": "code",
      "source": [
        "with open('Dvdtest.txt','r',encoding='latin1') as f:\n",
        "  test = f.readlines()"
      ],
      "execution_count": 0,
      "outputs": []
    },
    {
      "metadata": {
        "id": "II-3Hz0m-1VU",
        "colab_type": "code",
        "colab": {
          "autoexec": {
            "startup": false,
            "wait_interval": 0
          }
        }
      },
      "cell_type": "code",
      "source": [
        "def clean_text(sentence):\n",
        "\tstopword = stopwords.words('english')\n",
        "\tsent = word_tokenize(sentence)\n",
        "\tsent = [word for word in sent if word.isalpha() and word not in stopword]\n",
        "\treturn \" \".join(sent)"
      ],
      "execution_count": 0,
      "outputs": []
    },
    {
      "metadata": {
        "id": "aUxh-l63-5R0",
        "colab_type": "code",
        "colab": {
          "autoexec": {
            "startup": false,
            "wait_interval": 0
          }
        }
      },
      "cell_type": "code",
      "source": [
        "def preprocess(train_data,test_data):\n",
        "\n",
        "\tlabel_train = np.zeros(1600)\n",
        "\tlabel_train[0:800] = 1\n",
        "\tlabel_test = np.zeros(400)\n",
        "\tlabel_test[0:200]=1\n",
        "\n",
        "\ttrain_d,l_train = shuffle(train_data,label_train)\n",
        "\ttest_d,l_test = shuffle(test_data,label_test) \n",
        "\n",
        "\tcor_tr = []\n",
        "\n",
        "\tcor_pos = []\n",
        "\tcor_neg = []\n",
        "\n",
        "\tcor_te = []\n",
        "\n",
        "\tfor i in range(1600):\n",
        "\t\tcor_tr.append(clean_text(train_d[i]))\n",
        "\n",
        "\tfor i in range(400):\n",
        "\t\tcor_te.append(clean_text(test_d[i]))\n",
        "\n",
        "\n",
        "\treturn cor_tr,cor_te,l_train,l_test"
      ],
      "execution_count": 0,
      "outputs": []
    },
    {
      "metadata": {
        "id": "GUPNchx6-8_-",
        "colab_type": "code",
        "colab": {
          "autoexec": {
            "startup": false,
            "wait_interval": 0
          }
        }
      },
      "cell_type": "code",
      "source": [
        "c_train,c_test,l_train,l_test = preprocess(train,test)"
      ],
      "execution_count": 0,
      "outputs": []
    },
    {
      "metadata": {
        "id": "ePD-4g_6_Q_o",
        "colab_type": "code",
        "colab": {
          "autoexec": {
            "startup": false,
            "wait_interval": 0
          }
        }
      },
      "cell_type": "code",
      "source": [
        "def featureextraction(c_tr,c_te,l_tr,l_te):\n",
        "\tvec = TfidfVectorizer(min_df=3,max_df=0.8,use_idf=True,sublinear_tf=True,stop_words='english')\n",
        "\ttr_tfidf = vec.fit_transform(c_tr)\n",
        "\tte_tfidf = vec.transform(c_te)\n",
        "\n",
        "\treturn tr_tfidf,te_tfidf,vec.vocabulary_"
      ],
      "execution_count": 0,
      "outputs": []
    },
    {
      "metadata": {
        "id": "1As2xzP1_ix5",
        "colab_type": "code",
        "colab": {
          "autoexec": {
            "startup": false,
            "wait_interval": 0
          }
        }
      },
      "cell_type": "code",
      "source": [
        "tr_tfidf,te_tfidf,vocab = featureextraction(c_train,c_test,l_train,l_test)"
      ],
      "execution_count": 0,
      "outputs": []
    },
    {
      "metadata": {
        "id": "cTst_NFa_Au9",
        "colab_type": "code",
        "colab": {
          "autoexec": {
            "startup": false,
            "wait_interval": 0
          }
        }
      },
      "cell_type": "code",
      "source": [
        "def get_freq(tr_d,tr_l,te_d,te_l,word):\n",
        "\n",
        "\tcp=0.0\n",
        "\tcn=0.0\n",
        "\n",
        "\tfor i in range(0,1600):\n",
        "\t\twords = tr_d[i].split()\n",
        "\t\tif(word in words):\n",
        "\t\t\tif(tr_l[i]==1):\n",
        "\t\t\t\tcp+=1\n",
        "\t\t\telse:\n",
        "\t\t\t\tcn+=1\n",
        "\n",
        "\tfor i in range(0,400):\n",
        "\t\twords = te_d[i].split()\n",
        "\t\tif(word in words):\n",
        "\t\t\tif(te_l[i]==1):\n",
        "\t\t\t\tcp+=1\n",
        "\t\t\telse:\n",
        "\t\t\t\tcn+=1\n",
        "\n",
        "\treturn (cp+cn)/2"
      ],
      "execution_count": 0,
      "outputs": []
    },
    {
      "metadata": {
        "id": "GKxEC-iO_ng7",
        "colab_type": "code",
        "colab": {
          "autoexec": {
            "startup": false,
            "wait_interval": 0
          }
        }
      },
      "cell_type": "code",
      "source": [
        "def cal_word_freq(tr_d,te_d,tr_l,te_l,vocab):\n",
        "\n",
        "\tfreq_c = []\n",
        "\t\n",
        "\tfor word in vocab:\n",
        "\t\tcou = get_freq(tr_d,tr_l,te_d,te_l,word)\n",
        "\t\tfreq_c.append([word,cou])\n",
        "\n",
        "\torg_freq = sorted(freq_c,key=lambda x:x[1],reverse=True)\n",
        "\n",
        "\treturn org_freq\n"
      ],
      "execution_count": 0,
      "outputs": []
    },
    {
      "metadata": {
        "id": "dMy-BE9X_o7n",
        "colab_type": "code",
        "colab": {
          "autoexec": {
            "startup": false,
            "wait_interval": 0
          }
        }
      },
      "cell_type": "code",
      "source": [
        "freq = cal_word_freq(c_train,c_test,l_train,l_test,vocab)"
      ],
      "execution_count": 0,
      "outputs": []
    },
    {
      "metadata": {
        "id": "etag27FNAjhD",
        "colab_type": "code",
        "colab": {
          "autoexec": {
            "startup": false,
            "wait_interval": 0
          }
        }
      },
      "cell_type": "code",
      "source": [
        "k = 5000"
      ],
      "execution_count": 0,
      "outputs": []
    },
    {
      "metadata": {
        "id": "to99jj8GANCh",
        "colab_type": "code",
        "colab": {
          "autoexec": {
            "startup": false,
            "wait_interval": 0
          }
        }
      },
      "cell_type": "code",
      "source": [
        "kfea = []"
      ],
      "execution_count": 0,
      "outputs": []
    },
    {
      "metadata": {
        "id": "44bm3xvFA4Xf",
        "colab_type": "code",
        "colab": {
          "autoexec": {
            "startup": false,
            "wait_interval": 0
          }
        }
      },
      "cell_type": "code",
      "source": [
        "for i in range(k):\n",
        "  kfea.append(freq[i][0])"
      ],
      "execution_count": 0,
      "outputs": []
    },
    {
      "metadata": {
        "id": "MJ02sVxCA9OC",
        "colab_type": "code",
        "colab": {
          "autoexec": {
            "startup": false,
            "wait_interval": 0
          }
        }
      },
      "cell_type": "code",
      "source": [
        "tr_vecs = np.zeros((1600,k))"
      ],
      "execution_count": 0,
      "outputs": []
    },
    {
      "metadata": {
        "id": "p8SHo5JSBINQ",
        "colab_type": "code",
        "colab": {
          "autoexec": {
            "startup": false,
            "wait_interval": 0
          }
        }
      },
      "cell_type": "code",
      "source": [
        "for i in range(0,1600):\n",
        "  sents = c_train[i].split()\n",
        "  for j in range(len(sents)):\n",
        "    if(sents[j] in kfea):\n",
        "      tr_vecs[i][j]=1"
      ],
      "execution_count": 0,
      "outputs": []
    },
    {
      "metadata": {
        "id": "uydUGGf-BsZH",
        "colab_type": "code",
        "colab": {
          "autoexec": {
            "startup": false,
            "wait_interval": 0
          }
        }
      },
      "cell_type": "code",
      "source": [
        "te_vecs = np.zeros((400,k))"
      ],
      "execution_count": 0,
      "outputs": []
    },
    {
      "metadata": {
        "id": "irYnHzF8Bg47",
        "colab_type": "code",
        "colab": {
          "autoexec": {
            "startup": false,
            "wait_interval": 0
          }
        }
      },
      "cell_type": "code",
      "source": [
        "for i in range(0,400):\n",
        "  sents = c_test[i].split()\n",
        "  for j in range(len(sents)):\n",
        "    if(sents[j] in kfea):\n",
        "      te_vecs[i][j]=1"
      ],
      "execution_count": 0,
      "outputs": []
    },
    {
      "metadata": {
        "id": "maQ87MxiCPp9",
        "colab_type": "code",
        "colab": {
          "autoexec": {
            "startup": false,
            "wait_interval": 0
          }
        }
      },
      "cell_type": "code",
      "source": [
        "tra = sparse.csr_matrix(tr_vecs)"
      ],
      "execution_count": 0,
      "outputs": []
    },
    {
      "metadata": {
        "id": "R8K2XIJ8CeTw",
        "colab_type": "code",
        "colab": {
          "autoexec": {
            "startup": false,
            "wait_interval": 0
          }
        }
      },
      "cell_type": "code",
      "source": [
        "tea = sparse.csr_matrix(te_vecs)"
      ],
      "execution_count": 0,
      "outputs": []
    },
    {
      "metadata": {
        "id": "T-Tg7AqkB6sH",
        "colab_type": "code",
        "colab": {
          "autoexec": {
            "startup": false,
            "wait_interval": 0
          },
          "base_uri": "https://localhost:8080/",
          "height": 85
        },
        "outputId": "6dd045ce-978b-4288-cf5c-b6db5e394c3f",
        "executionInfo": {
          "status": "ok",
          "timestamp": 1525369208619,
          "user_tz": -330,
          "elapsed": 788,
          "user": {
            "displayName": "venkatsai madasu",
            "photoUrl": "https://lh3.googleusercontent.com/a/default-user=s128",
            "userId": "110219689365457560653"
          }
        }
      },
      "cell_type": "code",
      "source": [
        "lr = LogisticRegression()\n",
        "lr.fit(tra,l_train)\n",
        "lr_p = lr.predict(tea)\n",
        "lr_a = accuracy_score(lr_p,l_test)\n",
        "lr_f1 = f1_score(lr_p,l_test)\n",
        "lr_cm = confusion_matrix(lr_p,l_test)\n",
        "print(\"Accuracy :\",lr_a)\n",
        "print(\"F1 score :\",lr_f1)\n",
        "print(lr_cm)"
      ],
      "execution_count": 75,
      "outputs": [
        {
          "output_type": "stream",
          "text": [
            "Accuracy : 0.4725\n",
            "F1 score : 0.4575835475578406\n",
            "[[100 111]\n",
            " [100  89]]\n"
          ],
          "name": "stdout"
        }
      ]
    },
    {
      "metadata": {
        "id": "VPvyxjhQC00c",
        "colab_type": "code",
        "colab": {
          "autoexec": {
            "startup": false,
            "wait_interval": 0
          },
          "base_uri": "https://localhost:8080/",
          "height": 85
        },
        "outputId": "fb36e28c-1516-4e0a-aa4a-e1c33ddb8db3",
        "executionInfo": {
          "status": "ok",
          "timestamp": 1525369316915,
          "user_tz": -330,
          "elapsed": 1543,
          "user": {
            "displayName": "venkatsai madasu",
            "photoUrl": "https://lh3.googleusercontent.com/a/default-user=s128",
            "userId": "110219689365457560653"
          }
        }
      },
      "cell_type": "code",
      "source": [
        "lrb  = BaggingClassifier(base_estimator=lr,random_state=0,max_samples=0.8,n_estimators=10)\n",
        "lrb.fit(tra,l_train)\n",
        "lrbp = lrb.predict(tea)\n",
        "lrba = lrb.score(tea,l_test)\n",
        "lrbcm = confusion_matrix(lrbp,l_test)\n",
        "lrbf1 = f1_score(lrbp,l_test)\n",
        "print(\"Accuracy :\",lrba)\n",
        "print(\"F1 score :\",lrbf1)\n",
        "print(lrbcm)"
      ],
      "execution_count": 86,
      "outputs": [
        {
          "output_type": "stream",
          "text": [
            "Accuracy : 0.4875\n",
            "F1 score : 0.48621553884711777\n",
            "[[ 98 103]\n",
            " [102  97]]\n"
          ],
          "name": "stdout"
        }
      ]
    },
    {
      "metadata": {
        "id": "38k855n2DzeV",
        "colab_type": "code",
        "colab": {
          "autoexec": {
            "startup": false,
            "wait_interval": 0
          },
          "base_uri": "https://localhost:8080/",
          "height": 102
        },
        "outputId": "41c8f7be-f101-4fb2-9b8d-3ce63ce1451b",
        "executionInfo": {
          "status": "ok",
          "timestamp": 1525369217229,
          "user_tz": -330,
          "elapsed": 2136,
          "user": {
            "displayName": "venkatsai madasu",
            "photoUrl": "https://lh3.googleusercontent.com/a/default-user=s128",
            "userId": "110219689365457560653"
          }
        }
      },
      "cell_type": "code",
      "source": [
        "rb = svm.SVC(gamma=0.9)\n",
        "rb.fit(tra,l_train)\n",
        "rbp = rb.predict(tea)\n",
        "rba = accuracy_score(rbp,l_test)\n",
        "rbcm = confusion_matrix(rbp,l_test)\n",
        "rbf1 = f1_score(rbp,l_test)\n",
        "print(\"The SVM (rbf) Accuracy is: \",rba)\n",
        "print(\"The F1 score is: \",rbf1)\n",
        "print(\"The confusion matrix is:\")\n",
        "print(rbcm)\n"
      ],
      "execution_count": 77,
      "outputs": [
        {
          "output_type": "stream",
          "text": [
            "The SVM (rbf) Accuracy is:  0.49\n",
            "The F1 score is:  0.6494845360824743\n",
            "The confusion matrix is:\n",
            "[[  7  11]\n",
            " [193 189]]\n"
          ],
          "name": "stdout"
        }
      ]
    },
    {
      "metadata": {
        "id": "qpvHsv6kEljf",
        "colab_type": "code",
        "colab": {
          "autoexec": {
            "startup": false,
            "wait_interval": 0
          },
          "base_uri": "https://localhost:8080/",
          "height": 85
        },
        "outputId": "4dbb3435-3f77-4f63-cf7c-4c6dbe4b5c3c",
        "executionInfo": {
          "status": "ok",
          "timestamp": 1525369271424,
          "user_tz": -330,
          "elapsed": 6893,
          "user": {
            "displayName": "venkatsai madasu",
            "photoUrl": "https://lh3.googleusercontent.com/a/default-user=s128",
            "userId": "110219689365457560653"
          }
        }
      },
      "cell_type": "code",
      "source": [
        "rbb  = BaggingClassifier(base_estimator=rb,random_state=0,max_samples=0.8,n_estimators=13)\n",
        "rbb.fit(tra,l_train)\n",
        "rbbp = rbb.predict(tea)\n",
        "rbba = accuracy_score(rbbp,l_test)\n",
        "rbbcm = confusion_matrix(rbbp,l_test)\n",
        "rbbf1 = f1_score(rbbp,l_test)\n",
        "print(\"Accuracy(SVM) Bagging:\",rbba)\n",
        "print(\"F1 score :\",rbbf1)\n",
        "print(rbbcm)"
      ],
      "execution_count": 81,
      "outputs": [
        {
          "output_type": "stream",
          "text": [
            "Accuracy(SVM) Bagging: 0.495\n",
            "F1 score : 0.6505190311418685\n",
            "[[ 10  12]\n",
            " [190 188]]\n"
          ],
          "name": "stdout"
        }
      ]
    },
    {
      "metadata": {
        "id": "eAH5odtzFC_U",
        "colab_type": "code",
        "colab": {
          "autoexec": {
            "startup": false,
            "wait_interval": 0
          },
          "base_uri": "https://localhost:8080/",
          "height": 102
        },
        "outputId": "9d3b200b-2a2a-44d6-97d5-4b30787092e5",
        "executionInfo": {
          "status": "ok",
          "timestamp": 1525369411872,
          "user_tz": -330,
          "elapsed": 2168,
          "user": {
            "displayName": "venkatsai madasu",
            "photoUrl": "https://lh3.googleusercontent.com/a/default-user=s128",
            "userId": "110219689365457560653"
          }
        }
      },
      "cell_type": "code",
      "source": [
        "ls = svm.SVC(gamma=0.9,kernel='linear')\n",
        "ls.fit(tra,l_train)\n",
        "lsp = ls.predict(tea)\n",
        "lsa = accuracy_score(lsp,l_test)\n",
        "lscm = confusion_matrix(lsp,l_test)\n",
        "lsf1 = f1_score(lsp,l_test)\n",
        "print(\"The SVM (rbf) Accuracy is: \",lsa)\n",
        "print(\"The F1 score is: \",lsf1)\n",
        "print(\"The confusion matrix is:\")\n",
        "print(lscm)\n"
      ],
      "execution_count": 87,
      "outputs": [
        {
          "output_type": "stream",
          "text": [
            "The SVM (rbf) Accuracy is:  0.4975\n",
            "The F1 score is:  0.513317191283293\n",
            "The confusion matrix is:\n",
            "[[ 93  94]\n",
            " [107 106]]\n"
          ],
          "name": "stdout"
        }
      ]
    },
    {
      "metadata": {
        "id": "gPX94IFgGhBS",
        "colab_type": "code",
        "colab": {
          "autoexec": {
            "startup": false,
            "wait_interval": 0
          },
          "base_uri": "https://localhost:8080/",
          "height": 85
        },
        "outputId": "3c94260b-bf26-4305-d488-47edb5849f46",
        "executionInfo": {
          "status": "ok",
          "timestamp": 1525369583449,
          "user_tz": -330,
          "elapsed": 2396,
          "user": {
            "displayName": "venkatsai madasu",
            "photoUrl": "https://lh3.googleusercontent.com/a/default-user=s128",
            "userId": "110219689365457560653"
          }
        }
      },
      "cell_type": "code",
      "source": [
        "lsb  = BaggingClassifier(base_estimator=ls,random_state=0,max_samples=0.6,n_estimators=5)\n",
        "lsb.fit(tra,l_train)\n",
        "lsbp = lsb.predict(tea)\n",
        "lsba = accuracy_score(lsbp,l_test)\n",
        "lsbcm = confusion_matrix(lsbp,l_test)\n",
        "lsbf1 = f1_score(lsbp,l_test)\n",
        "print(\"Accuracy(Linear SVM) Bagging:\",lsba)\n",
        "print(\"F1 score :\",lsbf1)\n",
        "print(lsbcm)"
      ],
      "execution_count": 96,
      "outputs": [
        {
          "output_type": "stream",
          "text": [
            "Accuracy(Linear SVM) Bagging: 0.53\n",
            "F1 score : 0.5566037735849056\n",
            "[[ 94  82]\n",
            " [106 118]]\n"
          ],
          "name": "stdout"
        }
      ]
    },
    {
      "metadata": {
        "id": "1cjxz7fjG45U",
        "colab_type": "code",
        "colab": {
          "autoexec": {
            "startup": false,
            "wait_interval": 0
          },
          "base_uri": "https://localhost:8080/",
          "height": 102
        },
        "outputId": "7da581c3-f732-4701-a32c-e7c42723e4da",
        "executionInfo": {
          "status": "ok",
          "timestamp": 1525369750059,
          "user_tz": -330,
          "elapsed": 976,
          "user": {
            "displayName": "venkatsai madasu",
            "photoUrl": "https://lh3.googleusercontent.com/a/default-user=s128",
            "userId": "110219689365457560653"
          }
        }
      },
      "cell_type": "code",
      "source": [
        "dt = DecisionTreeClassifier()\n",
        "dt.fit(tra,l_train)\n",
        "dtp = dt.predict(tea)\n",
        "dta = accuracy_score(dtp,l_test)\n",
        "dtcm = confusion_matrix(dtp,l_test)\n",
        "dtf1 = f1_score(dtp,l_test)\n",
        "print(\"The DT Accuracy is: \",dta)\n",
        "print(\"The F1 score is: \",dtf1)\n",
        "print(\"The confusion matrix is:\")\n",
        "print(dtcm)"
      ],
      "execution_count": 97,
      "outputs": [
        {
          "output_type": "stream",
          "text": [
            "The DT Accuracy is:  0.4975\n",
            "The F1 score is:  0.4962406015037594\n",
            "The confusion matrix is:\n",
            "[[100 101]\n",
            " [100  99]]\n"
          ],
          "name": "stdout"
        }
      ]
    },
    {
      "metadata": {
        "id": "3UdlqO3_Hz3_",
        "colab_type": "code",
        "colab": {
          "autoexec": {
            "startup": false,
            "wait_interval": 0
          },
          "base_uri": "https://localhost:8080/",
          "height": 85
        },
        "outputId": "8a6799db-ae7c-4c4f-d322-d81eba10a127",
        "executionInfo": {
          "status": "ok",
          "timestamp": 1525369814116,
          "user_tz": -330,
          "elapsed": 1136,
          "user": {
            "displayName": "venkatsai madasu",
            "photoUrl": "https://lh3.googleusercontent.com/a/default-user=s128",
            "userId": "110219689365457560653"
          }
        }
      },
      "cell_type": "code",
      "source": [
        "dtb  = BaggingClassifier(base_estimator=dt,random_state=0,max_samples=0.6,n_estimators=5)\n",
        "dtb.fit(tra,l_train)\n",
        "dtbp = dtb.predict(tea)\n",
        "dtba = accuracy_score(dtbp,l_test)\n",
        "dtbcm = confusion_matrix(dtbp,l_test)\n",
        "dtbf1 = f1_score(dtbp,l_test)\n",
        "print(\"Accuracy(DT) Bagging:\",dtba)\n",
        "print(\"F1 score :\",dtbf1)\n",
        "print(dtbcm)"
      ],
      "execution_count": 98,
      "outputs": [
        {
          "output_type": "stream",
          "text": [
            "Accuracy(DT) Bagging: 0.535\n",
            "F1 score : 0.535\n",
            "[[107  93]\n",
            " [ 93 107]]\n"
          ],
          "name": "stdout"
        }
      ]
    },
    {
      "metadata": {
        "id": "c7kUUZ1JIDeh",
        "colab_type": "code",
        "colab": {
          "autoexec": {
            "startup": false,
            "wait_interval": 0
          },
          "base_uri": "https://localhost:8080/",
          "height": 102
        },
        "outputId": "5fead95a-0d30-4e96-8d48-12a682d1b9c6",
        "executionInfo": {
          "status": "ok",
          "timestamp": 1525369886760,
          "user_tz": -330,
          "elapsed": 746,
          "user": {
            "displayName": "venkatsai madasu",
            "photoUrl": "https://lh3.googleusercontent.com/a/default-user=s128",
            "userId": "110219689365457560653"
          }
        }
      },
      "cell_type": "code",
      "source": [
        "mb = MultinomialNB()\n",
        "mb.fit(tra,l_train)\n",
        "mbp = mb.predict(tea)\n",
        "mba = accuracy_score(mbp,l_test)\n",
        "mbcm = confusion_matrix(mbp,l_test)\n",
        "mbf1 = f1_score(mbp,l_test)\n",
        "print(\"The MNB Accuracy is: \",mba)\n",
        "print(\"The F1 score is: \",mbf1)\n",
        "print(\"The confusion matrix is:\")\n",
        "print(mbcm)"
      ],
      "execution_count": 99,
      "outputs": [
        {
          "output_type": "stream",
          "text": [
            "The MNB Accuracy is:  0.5175\n",
            "The F1 score is:  0.6584070796460177\n",
            "The confusion matrix is:\n",
            "[[ 21  14]\n",
            " [179 186]]\n"
          ],
          "name": "stdout"
        }
      ]
    },
    {
      "metadata": {
        "id": "3fqQcJN9IVTu",
        "colab_type": "code",
        "colab": {
          "autoexec": {
            "startup": false,
            "wait_interval": 0
          },
          "base_uri": "https://localhost:8080/",
          "height": 85
        },
        "outputId": "5324103d-15a0-43d8-87e7-e7358ca21aba",
        "executionInfo": {
          "status": "ok",
          "timestamp": 1525370098494,
          "user_tz": -330,
          "elapsed": 794,
          "user": {
            "displayName": "venkatsai madasu",
            "photoUrl": "https://lh3.googleusercontent.com/a/default-user=s128",
            "userId": "110219689365457560653"
          }
        }
      },
      "cell_type": "code",
      "source": [
        "mbb  = BaggingClassifier(base_estimator=mb,random_state=0,max_samples=0.6,n_estimators=13)\n",
        "mbb.fit(tra,l_train)\n",
        "mbbp = mbb.predict(tea)\n",
        "mbba = accuracy_score(mbbp,l_test)\n",
        "mbbcm = confusion_matrix(mbbp,l_test)\n",
        "mbbf1 = f1_score(mbbp,l_test)\n",
        "print(\"Accuracy(MNB) Bagging:\",mbba)\n",
        "print(\"F1 score :\",mbbf1)\n",
        "print(mbbcm)"
      ],
      "execution_count": 124,
      "outputs": [
        {
          "output_type": "stream",
          "text": [
            "Accuracy(DT) Bagging: 0.515\n",
            "F1 score : 0.6608391608391608\n",
            "[[ 17  11]\n",
            " [183 189]]\n"
          ],
          "name": "stdout"
        }
      ]
    },
    {
      "metadata": {
        "id": "wGWQQEWAImuj",
        "colab_type": "code",
        "colab": {
          "autoexec": {
            "startup": false,
            "wait_interval": 0
          },
          "base_uri": "https://localhost:8080/",
          "height": 102
        },
        "outputId": "41cfa71f-3658-4f4a-a4b6-ff0031e577d6",
        "executionInfo": {
          "status": "ok",
          "timestamp": 1525370158393,
          "user_tz": -330,
          "elapsed": 889,
          "user": {
            "displayName": "venkatsai madasu",
            "photoUrl": "https://lh3.googleusercontent.com/a/default-user=s128",
            "userId": "110219689365457560653"
          }
        }
      },
      "cell_type": "code",
      "source": [
        "be = BernoulliNB()\n",
        "be.fit(tra,l_train)\n",
        "bep = be.predict(tea)\n",
        "bea = accuracy_score(bep,l_test)\n",
        "becm = confusion_matrix(bep,l_test)\n",
        "bef1 = f1_score(bep,l_test)\n",
        "print(\"The Ber Accuracy is: \",bea)\n",
        "print(\"The F1 score is: \",bef1)\n",
        "print(\"The confusion matrix is:\")\n",
        "print(becm)"
      ],
      "execution_count": 125,
      "outputs": [
        {
          "output_type": "stream",
          "text": [
            "The Ber Accuracy is:  0.4925\n",
            "The F1 score is:  0.6588235294117647\n",
            "The confusion matrix is:\n",
            "[[  1   4]\n",
            " [199 196]]\n"
          ],
          "name": "stdout"
        }
      ]
    },
    {
      "metadata": {
        "id": "-1aG8d0dJXlm",
        "colab_type": "code",
        "colab": {
          "autoexec": {
            "startup": false,
            "wait_interval": 0
          },
          "base_uri": "https://localhost:8080/",
          "height": 85
        },
        "outputId": "d107d7b2-e452-43ac-ef20-9adf2862591e",
        "executionInfo": {
          "status": "ok",
          "timestamp": 1525370529791,
          "user_tz": -330,
          "elapsed": 813,
          "user": {
            "displayName": "venkatsai madasu",
            "photoUrl": "https://lh3.googleusercontent.com/a/default-user=s128",
            "userId": "110219689365457560653"
          }
        }
      },
      "cell_type": "code",
      "source": [
        "beb  = BaggingClassifier(base_estimator=be,random_state=0,max_samples=0.8,n_estimators=9,max_features=0.8)\n",
        "beb.fit(tra,l_train)\n",
        "bebp = beb.predict(tea)\n",
        "beba = accuracy_score(bebp,l_test)\n",
        "bebcm = confusion_matrix(bebp,l_test)\n",
        "bebf1 = f1_score(bebp,l_test)\n",
        "print(\"Accuracy(BER) Bagging:\",beba)\n",
        "print(\"F1 score :\",bebf1)\n",
        "print(bebcm)"
      ],
      "execution_count": 159,
      "outputs": [
        {
          "output_type": "stream",
          "text": [
            "Accuracy(BER) Bagging: 0.525\n",
            "F1 score : 0.6631205673758865\n",
            "[[ 23  13]\n",
            " [177 187]]\n"
          ],
          "name": "stdout"
        }
      ]
    },
    {
      "metadata": {
        "id": "r-GCpZ3CJpg5",
        "colab_type": "code",
        "colab": {
          "autoexec": {
            "startup": false,
            "wait_interval": 0
          },
          "base_uri": "https://localhost:8080/",
          "height": 85
        },
        "outputId": "5a116caa-e51f-415c-e8b2-8a06c72f6ce7",
        "executionInfo": {
          "status": "ok",
          "timestamp": 1525370716769,
          "user_tz": -330,
          "elapsed": 1493,
          "user": {
            "displayName": "venkatsai madasu",
            "photoUrl": "https://lh3.googleusercontent.com/a/default-user=s128",
            "userId": "110219689365457560653"
          }
        }
      },
      "cell_type": "code",
      "source": [
        "lrrs  = BaggingClassifier(base_estimator=lr,random_state=0,max_features=0.8,n_estimators=10)\n",
        "lrrs.fit(tra,l_train)\n",
        "lrrsp = lrrs.predict(tea)\n",
        "lrrsa = lrrs.score(tea,l_test)\n",
        "lrrscm = confusion_matrix(lrrsp,l_test)\n",
        "lrrsf1 = f1_score(lrrsp,l_test)\n",
        "print(\"Accuracy (RS):\",lrrsa)\n",
        "print(\"F1 score :\",lrrsf1)\n",
        "print(lrrscm)"
      ],
      "execution_count": 164,
      "outputs": [
        {
          "output_type": "stream",
          "text": [
            "Accuracy (RS): 0.4925\n",
            "F1 score : 0.46997389033942555\n",
            "[[107 110]\n",
            " [ 93  90]]\n"
          ],
          "name": "stdout"
        }
      ]
    },
    {
      "metadata": {
        "id": "fvbFL7iJLXLB",
        "colab_type": "code",
        "colab": {
          "autoexec": {
            "startup": false,
            "wait_interval": 0
          },
          "base_uri": "https://localhost:8080/",
          "height": 85
        },
        "outputId": "9676e1bf-bea1-4242-b6f7-d4612f70f807",
        "executionInfo": {
          "status": "ok",
          "timestamp": 1525370939792,
          "user_tz": -330,
          "elapsed": 5713,
          "user": {
            "displayName": "venkatsai madasu",
            "photoUrl": "https://lh3.googleusercontent.com/a/default-user=s128",
            "userId": "110219689365457560653"
          }
        }
      },
      "cell_type": "code",
      "source": [
        "rbrs  = BaggingClassifier(base_estimator=rb,random_state=0,max_features=0.8,n_estimators=7)\n",
        "rbrs.fit(tra,l_train)\n",
        "rbrsp = rbrs.predict(tea)\n",
        "rbrsa = accuracy_score(rbrsp,l_test)\n",
        "rbrscm = confusion_matrix(rbrsp,l_test)\n",
        "rbrsf1 = f1_score(rbrsp,l_test)\n",
        "print(\"Accuracy(SVM) RS:\",rbrsa)\n",
        "print(\"F1 score :\",rbrsf1)\n",
        "print(rbrscm)"
      ],
      "execution_count": 172,
      "outputs": [
        {
          "output_type": "stream",
          "text": [
            "Accuracy(SVM) RS: 0.5025\n",
            "F1 score : 0.6514886164623468\n",
            "[[ 15  14]\n",
            " [185 186]]\n"
          ],
          "name": "stdout"
        }
      ]
    },
    {
      "metadata": {
        "id": "8XKd1k1GL82L",
        "colab_type": "code",
        "colab": {
          "autoexec": {
            "startup": false,
            "wait_interval": 0
          },
          "base_uri": "https://localhost:8080/",
          "height": 85
        },
        "outputId": "62fa65fe-e69f-44aa-d830-12f927f4f1dc",
        "executionInfo": {
          "status": "ok",
          "timestamp": 1525371420490,
          "user_tz": -330,
          "elapsed": 4936,
          "user": {
            "displayName": "venkatsai madasu",
            "photoUrl": "https://lh3.googleusercontent.com/a/default-user=s128",
            "userId": "110219689365457560653"
          }
        }
      },
      "cell_type": "code",
      "source": [
        "lrs  = BaggingClassifier(base_estimator=ls,random_state=0,max_features=0.99,n_estimators=7)\n",
        "lrs.fit(tra,l_train)\n",
        "lrsp = lrs.predict(tea)\n",
        "lrsa = accuracy_score(lrsp,l_test)\n",
        "lrscm = confusion_matrix(lrsp,l_test)\n",
        "lrsf1 = f1_score(lrsp,l_test)\n",
        "print(\"Accuracy(Linear SVM) RS:\",lrsa)\n",
        "print(\"F1 score :\",lrsf1)\n",
        "print(lrscm)"
      ],
      "execution_count": 194,
      "outputs": [
        {
          "output_type": "stream",
          "text": [
            "Accuracy(Linear SVM) RS: 0.5\n",
            "F1 score : 0.5238095238095238\n",
            "[[ 90  90]\n",
            " [110 110]]\n"
          ],
          "name": "stdout"
        }
      ]
    },
    {
      "metadata": {
        "id": "yo_SxjtIM8VM",
        "colab_type": "code",
        "colab": {
          "autoexec": {
            "startup": false,
            "wait_interval": 0
          },
          "base_uri": "https://localhost:8080/",
          "height": 85
        },
        "outputId": "b583ed59-c7e5-4504-ad7c-ae13dcaeecbd",
        "executionInfo": {
          "status": "ok",
          "timestamp": 1525371496838,
          "user_tz": -330,
          "elapsed": 1102,
          "user": {
            "displayName": "venkatsai madasu",
            "photoUrl": "https://lh3.googleusercontent.com/a/default-user=s128",
            "userId": "110219689365457560653"
          }
        }
      },
      "cell_type": "code",
      "source": [
        "dtrs  = BaggingClassifier(base_estimator=dt,random_state=0,max_features=0.6,n_estimators=5)\n",
        "dtrs.fit(tra,l_train)\n",
        "dtrsp = dtrs.predict(tea)\n",
        "dtrsa = accuracy_score(dtrsp,l_test)\n",
        "dtrscm = confusion_matrix(dtrsp,l_test)\n",
        "dtrsf1 = f1_score(dtrsp,l_test)\n",
        "print(\"Accuracy(DT) RS:\",dtrsa)\n",
        "print(\"F1 score :\",dtrsf1)\n",
        "print(dtrscm)"
      ],
      "execution_count": 195,
      "outputs": [
        {
          "output_type": "stream",
          "text": [
            "Accuracy(DT) RS: 0.5325\n",
            "F1 score : 0.5336658354114714\n",
            "[[106  93]\n",
            " [ 94 107]]\n"
          ],
          "name": "stdout"
        }
      ]
    },
    {
      "metadata": {
        "id": "d2ILgnwDOeTM",
        "colab_type": "code",
        "colab": {
          "autoexec": {
            "startup": false,
            "wait_interval": 0
          },
          "base_uri": "https://localhost:8080/",
          "height": 85
        },
        "outputId": "5146de01-9243-4aa5-f43f-6a7416a9542d",
        "executionInfo": {
          "status": "ok",
          "timestamp": 1525371840296,
          "user_tz": -330,
          "elapsed": 803,
          "user": {
            "displayName": "venkatsai madasu",
            "photoUrl": "https://lh3.googleusercontent.com/a/default-user=s128",
            "userId": "110219689365457560653"
          }
        }
      },
      "cell_type": "code",
      "source": [
        "mbrs  = BaggingClassifier(base_estimator=mb,random_state=0,max_features=0.7,n_estimators=14)\n",
        "mbrs.fit(tra,l_train)\n",
        "mbrsp = mbrs.predict(tea)\n",
        "mbrsa = accuracy_score(mbrsp,l_test)\n",
        "mbrscm = confusion_matrix(mbrsp,l_test)\n",
        "mbrsf1 = f1_score(mbrsp,l_test)\n",
        "print(\"Accuracy(MNB) RS:\",mbrsa)\n",
        "print(\"F1 score :\",mbrsf1)\n",
        "print(mbrscm)"
      ],
      "execution_count": 228,
      "outputs": [
        {
          "output_type": "stream",
          "text": [
            "Accuracy(MNB) RS: 0.52\n",
            "F1 score : 0.6619718309859155\n",
            "[[ 20  12]\n",
            " [180 188]]\n"
          ],
          "name": "stdout"
        }
      ]
    },
    {
      "metadata": {
        "id": "gwpHvVbuOwzy",
        "colab_type": "code",
        "colab": {
          "autoexec": {
            "startup": false,
            "wait_interval": 0
          },
          "base_uri": "https://localhost:8080/",
          "height": 85
        },
        "outputId": "0f541fdd-f660-4abd-9c7a-8a9bf3c89e9c",
        "executionInfo": {
          "status": "ok",
          "timestamp": 1525371920544,
          "user_tz": -330,
          "elapsed": 773,
          "user": {
            "displayName": "venkatsai madasu",
            "photoUrl": "https://lh3.googleusercontent.com/a/default-user=s128",
            "userId": "110219689365457560653"
          }
        }
      },
      "cell_type": "code",
      "source": [
        "bers  = BaggingClassifier(base_estimator=be,random_state=0,n_estimators=9,max_features=0.8)\n",
        "bers.fit(tra,l_train)\n",
        "bersp = bers.predict(tea)\n",
        "bersa = accuracy_score(bersp,l_test)\n",
        "berscm = confusion_matrix(bersp,l_test)\n",
        "bersf1 = f1_score(bersp,l_test)\n",
        "print(\"Accuracy(BER) RS :\",bersa)\n",
        "print(\"F1 score :\",bersf1)\n",
        "print(berscm)"
      ],
      "execution_count": 229,
      "outputs": [
        {
          "output_type": "stream",
          "text": [
            "Accuracy(BER) RS : 0.505\n",
            "F1 score : 0.6621160409556314\n",
            "[[  8   6]\n",
            " [192 194]]\n"
          ],
          "name": "stdout"
        }
      ]
    },
    {
      "metadata": {
        "id": "ps-QyWGWQF1J",
        "colab_type": "code",
        "colab": {
          "autoexec": {
            "startup": false,
            "wait_interval": 0
          },
          "base_uri": "https://localhost:8080/",
          "height": 85
        },
        "outputId": "e52910c6-6195-445c-9ce5-68fa60c67610",
        "executionInfo": {
          "status": "ok",
          "timestamp": 1525372065055,
          "user_tz": -330,
          "elapsed": 820,
          "user": {
            "displayName": "venkatsai madasu",
            "photoUrl": "https://lh3.googleusercontent.com/a/default-user=s128",
            "userId": "110219689365457560653"
          }
        }
      },
      "cell_type": "code",
      "source": [
        "lrbo  = AdaBoostClassifier(base_estimator=lr,random_state=0,n_estimators=10)\n",
        "lrbo.fit(tra,l_train)\n",
        "lrbop = lrbo.predict(tea)\n",
        "lrboa = lrbo.score(tea,l_test)\n",
        "lrbocm = confusion_matrix(lrbop,l_test)\n",
        "lrbof1 = f1_score(lrbop,l_test)\n",
        "print(\"Accuracy (Boosting):\",lrboa)\n",
        "print(\"F1 score :\",lrbof1)\n",
        "print(lrbocm)"
      ],
      "execution_count": 232,
      "outputs": [
        {
          "output_type": "stream",
          "text": [
            "Accuracy (Boosting): 0.5175\n",
            "F1 score : 0.4769647696476965\n",
            "[[119 112]\n",
            " [ 81  88]]\n"
          ],
          "name": "stdout"
        }
      ]
    },
    {
      "metadata": {
        "id": "grOq0TYbQnsD",
        "colab_type": "code",
        "colab": {
          "autoexec": {
            "startup": false,
            "wait_interval": 0
          },
          "base_uri": "https://localhost:8080/",
          "height": 85
        },
        "outputId": "b08d6813-0dd6-4319-b4a0-def8b1aef42b",
        "executionInfo": {
          "status": "ok",
          "timestamp": 1525372527722,
          "user_tz": -330,
          "elapsed": 25939,
          "user": {
            "displayName": "venkatsai madasu",
            "photoUrl": "https://lh3.googleusercontent.com/a/default-user=s128",
            "userId": "110219689365457560653"
          }
        }
      },
      "cell_type": "code",
      "source": [
        "rbbo  = AdaBoostClassifier(base_estimator=rb,random_state=0,n_estimators=10,algorithm='SAMME',learning_rate=0.1)\n",
        "rbbo.fit(tra,l_train)\n",
        "rbbop = rbbo.predict(tea)\n",
        "rbboa = accuracy_score(rbbop,l_test)\n",
        "rbbocm = confusion_matrix(rbbop,l_test)\n",
        "rbbof1 = f1_score(rbbop,l_test)\n",
        "print(\"Accuracy(SVM) Boosting:\",rbboa)\n",
        "print(\"F1 score :\",rbbof1)\n",
        "print(rbbocm)"
      ],
      "execution_count": 240,
      "outputs": [
        {
          "output_type": "stream",
          "text": [
            "Accuracy(SVM) Boosting: 0.4975\n",
            "F1 score : 0.01951219512195122\n",
            "[[197 198]\n",
            " [  3   2]]\n"
          ],
          "name": "stdout"
        }
      ]
    },
    {
      "metadata": {
        "id": "5jPaWHFoQ8U7",
        "colab_type": "code",
        "colab": {
          "autoexec": {
            "startup": false,
            "wait_interval": 0
          },
          "base_uri": "https://localhost:8080/",
          "height": 85
        },
        "outputId": "21634d28-8ad2-467e-d154-a3dc984ec200",
        "executionInfo": {
          "status": "ok",
          "timestamp": 1525372312574,
          "user_tz": -330,
          "elapsed": 5108,
          "user": {
            "displayName": "venkatsai madasu",
            "photoUrl": "https://lh3.googleusercontent.com/a/default-user=s128",
            "userId": "110219689365457560653"
          }
        }
      },
      "cell_type": "code",
      "source": [
        "lbo  = AdaBoostClassifier(base_estimator=ls,random_state=0,n_estimators=7,algorithm='SAMME')\n",
        "lbo.fit(tra,l_train)\n",
        "lbop = lbo.predict(tea)\n",
        "lboa = accuracy_score(lbop,l_test)\n",
        "lbocm = confusion_matrix(lbop,l_test)\n",
        "lbof1 = f1_score(lbop,l_test)\n",
        "print(\"Accuracy(Linear SVM) Boosting:\",lboa)\n",
        "print(\"F1 score :\",lbof1)\n",
        "print(lbocm)"
      ],
      "execution_count": 236,
      "outputs": [
        {
          "output_type": "stream",
          "text": [
            "Accuracy(Linear SVM) Boosting: 0.5025\n",
            "F1 score : 0.5273159144893111\n",
            "[[ 90  89]\n",
            " [110 111]]\n"
          ],
          "name": "stdout"
        }
      ]
    },
    {
      "metadata": {
        "id": "5ifUkyA_RclE",
        "colab_type": "code",
        "colab": {
          "autoexec": {
            "startup": false,
            "wait_interval": 0
          }
        }
      },
      "cell_type": "code",
      "source": [
        "mbbo  = BaggingClassifier(base_estimator=mb,random_state=0,n_estimators=14)\n",
        "mbbo.fit(tra,l_train)\n",
        "mbbop = mbbo.predict(tea)\n",
        "mbboa = accuracy_score(mbbop,l_test)\n",
        "mbbocm = confusion_matrix(mbbop,l_test)\n",
        "mbbof1 = f1_score(mbbop,l_test)\n",
        "print(\"Accuracy(MNB) Boosting:\",mbboa)\n",
        "print(\"F1 score :\",mbbof1)\n",
        "print(mbbocm)"
      ],
      "execution_count": 0,
      "outputs": []
    }
  ]
}